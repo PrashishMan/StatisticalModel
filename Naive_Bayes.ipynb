{
 "cells": [
  {
   "cell_type": "code",
   "execution_count": 1,
   "metadata": {},
   "outputs": [],
   "source": [
    "import numpy as np\n",
    "import pandas as pd\n",
    "\n",
    "#Data Gathering\n",
    "\n",
    "data = [\n",
    "    {   \"text\":\"Congrats, You have won!! reply to our sms for a free nokia mobile + free camcorder.\",\n",
    "        \"label\" : \"spam\"},\n",
    "    {   \"text\":\"Congrats! 1 year special cinema pass for 2 is yours. reply to this sms to claim your prize.\",\n",
    "        \"label\" : \"spam\"},\n",
    "    {   \"text\":\"I am pleased to tell you that you are awarded with a 1500 Bonus Prize, reply to this sms to claim your prize.\",\n",
    "        \"label\" : \"spam\"},\n",
    "    {   \"text\":\"Dont worry. I guess he is busy.\",\"label\" : \"not spam\"},\n",
    "    {   \"text\":\"Going for dinner. msg you later.\", \"label\" : \"not spam\"}\n",
    "]\n",
    "\n",
    "df = pd.DataFrame(data)"
   ]
  },
  {
   "cell_type": "code",
   "execution_count": 2,
   "metadata": {},
   "outputs": [],
   "source": [
    "#Data Preprocessing\n",
    "# getting the tokens for one hot encoding\n",
    "def filter_word(word):\n",
    "    stop_words = [\".\", \",\", \"!\", \"+\"]\n",
    "    if(len(word) > 1):\n",
    "        while(word[-1] in stop_words):\n",
    "            word = word[:-1]            \n",
    "        return word.lower()\n",
    "\n",
    "def filter_data(corpus):\n",
    "    tokens = set()\n",
    "    for sentence in corpus:\n",
    "        if(len(sentence) > 1):\n",
    "            for token in sentence.split(\" \"):\n",
    "                token = filter_word(token)\n",
    "                if(token):\n",
    "                    tokens.add(token)\n",
    "    return tokens\n",
    "\n",
    "# assigning to all the columns in a dataframe\n",
    "def initialize_df(df):\n",
    "    row = df.shape[0]\n",
    "    col = df.shape[1]\n",
    "    df.loc[row] = [0 for n in range(col)]\n",
    "    return df\n",
    "\n",
    "# add train data to the dataframe\n",
    "def add_to_df(text, label, df):\n",
    "    df = initialize_df(df)\n",
    "    row = df.shape[0]-1\n",
    "    for word in text.lower().split(\" \"):\n",
    "        word = filter_word(word)\n",
    "\n",
    "        if(word in df.columns):\n",
    "            df.loc[row, word] = df.loc[row, word] + 1\n",
    "        df.loc[row, \"label\"] = int(1 if label == \"spam\" else 0)\n",
    "    return df\n",
    "        \n",
    "            "
   ]
  },
  {
   "cell_type": "code",
   "execution_count": 3,
   "metadata": {},
   "outputs": [],
   "source": [
    "# Creating a model\n",
    "# Calculating the probablity\n",
    "def calculate_prob(sentence, df2):\n",
    "    words_count = dict()\n",
    "    total = len(df2[\"label\"])\n",
    "    positive = len(df2[(df2[\"label\"] == 1)])\n",
    "    negative = total-positive\n",
    "    positive_prob = positive/total\n",
    "    negative_prob = negative/total\n",
    "    \n",
    "    prop_yes_given_word = 1\n",
    "    prop_no_given_word = 1\n",
    "    \n",
    "#     Calculating the positive probablity\n",
    "    for word in sentence.split(\" \"):\n",
    "        word = filter_word(word)\n",
    "        if(word and word in df2.columns.tolist()):\n",
    "            prop_yes_given_word *= (np.sum(df2[(df2[\"label\"] == 1)][word]) + 1)/positive\n",
    "    \n",
    "#     Calculating the negative probablity\n",
    "    for word in sentence.split(\" \"):\n",
    "        word = filter_word(word)\n",
    "        if(word and word in df2.columns.tolist()):\n",
    "            prop_no_given_word *= (np.sum(df2[(df2[\"label\"] == 0)][word]) + 1)/negative\n",
    "    \n",
    "    prop_yes_given_word = positive_prob * prop_yes_given_word    \n",
    "    prop_no_given_word = negative_prob * prop_no_given_word\n",
    "    \n",
    "    if(prop_yes_given_word > prop_no_given_word):\n",
    "        return \"Spam\"\n",
    "    \n",
    "    return \"Not Spam\""
   ]
  },
  {
   "cell_type": "code",
   "execution_count": 4,
   "metadata": {},
   "outputs": [],
   "source": [
    "#making predictions\n",
    "def predict(sentence):\n",
    "    corpus = df['text']\n",
    "    tokens = filter_data(corpus)\n",
    "\n",
    "    data_collection = [{\"text\" : text, \"label\" : label} for text, label in zip(df['text'].tolist(), df['label'].tolist())]\n",
    "\n",
    "    df2 = pd.DataFrame(columns = tokens)\n",
    "    for data in data_collection:\n",
    "        df2 = add_to_df(df = df2, **data)\n",
    "\n",
    "    return calculate_prob(sentence, df2)\n"
   ]
  },
  {
   "cell_type": "code",
   "execution_count": 14,
   "metadata": {},
   "outputs": [
    {
     "data": {
      "text/plain": [
       "'Not Spam'"
      ]
     },
     "execution_count": 14,
     "metadata": {},
     "output_type": "execute_result"
    }
   ],
   "source": [
    "predict(\"I am busy. I will msg you later.\")"
   ]
  },
  {
   "cell_type": "markdown",
   "metadata": {},
   "source": [
    "# Testing"
   ]
  },
  {
   "cell_type": "code",
   "execution_count": 6,
   "metadata": {},
   "outputs": [
    {
     "data": {
      "text/plain": [
       "{'1500',\n",
       " 'am',\n",
       " 'are',\n",
       " 'awarded',\n",
       " 'bonus',\n",
       " 'busy',\n",
       " 'camcorder',\n",
       " 'cinema',\n",
       " 'claim',\n",
       " 'congrats',\n",
       " 'dinner',\n",
       " 'dont',\n",
       " 'for',\n",
       " 'free',\n",
       " 'going',\n",
       " 'guess',\n",
       " 'have',\n",
       " 'he',\n",
       " 'is',\n",
       " 'later',\n",
       " 'mobile',\n",
       " 'msg',\n",
       " 'nokia',\n",
       " 'our',\n",
       " 'pass',\n",
       " 'pleased',\n",
       " 'prize',\n",
       " 'reply',\n",
       " 'sms',\n",
       " 'special',\n",
       " 'tell',\n",
       " 'that',\n",
       " 'this',\n",
       " 'to',\n",
       " 'with',\n",
       " 'won',\n",
       " 'worry',\n",
       " 'year',\n",
       " 'you',\n",
       " 'your',\n",
       " 'yours'}"
      ]
     },
     "execution_count": 6,
     "metadata": {},
     "output_type": "execute_result"
    }
   ],
   "source": [
    "corpus = df['text']\n",
    "tokens = filter_data(corpus)\n",
    "tokens"
   ]
  },
  {
   "cell_type": "code",
   "execution_count": 7,
   "metadata": {},
   "outputs": [
    {
     "data": {
      "text/html": [
       "<div>\n",
       "<style scoped>\n",
       "    .dataframe tbody tr th:only-of-type {\n",
       "        vertical-align: middle;\n",
       "    }\n",
       "\n",
       "    .dataframe tbody tr th {\n",
       "        vertical-align: top;\n",
       "    }\n",
       "\n",
       "    .dataframe thead th {\n",
       "        text-align: right;\n",
       "    }\n",
       "</style>\n",
       "<table border=\"1\" class=\"dataframe\">\n",
       "  <thead>\n",
       "    <tr style=\"text-align: right;\">\n",
       "      <th></th>\n",
       "      <th>he</th>\n",
       "      <th>prize</th>\n",
       "      <th>for</th>\n",
       "      <th>guess</th>\n",
       "      <th>cinema</th>\n",
       "      <th>pleased</th>\n",
       "      <th>bonus</th>\n",
       "      <th>this</th>\n",
       "      <th>claim</th>\n",
       "      <th>to</th>\n",
       "      <th>...</th>\n",
       "      <th>have</th>\n",
       "      <th>dinner</th>\n",
       "      <th>won</th>\n",
       "      <th>worry</th>\n",
       "      <th>you</th>\n",
       "      <th>reply</th>\n",
       "      <th>am</th>\n",
       "      <th>with</th>\n",
       "      <th>are</th>\n",
       "      <th>label</th>\n",
       "    </tr>\n",
       "  </thead>\n",
       "  <tbody>\n",
       "    <tr>\n",
       "      <th>0</th>\n",
       "      <td>1</td>\n",
       "      <td>0</td>\n",
       "      <td>0</td>\n",
       "      <td>1</td>\n",
       "      <td>0</td>\n",
       "      <td>0</td>\n",
       "      <td>0</td>\n",
       "      <td>0</td>\n",
       "      <td>0</td>\n",
       "      <td>0</td>\n",
       "      <td>...</td>\n",
       "      <td>0</td>\n",
       "      <td>0</td>\n",
       "      <td>0</td>\n",
       "      <td>1</td>\n",
       "      <td>0</td>\n",
       "      <td>0</td>\n",
       "      <td>0</td>\n",
       "      <td>0</td>\n",
       "      <td>0</td>\n",
       "      <td>0.0</td>\n",
       "    </tr>\n",
       "  </tbody>\n",
       "</table>\n",
       "<p>1 rows × 42 columns</p>\n",
       "</div>"
      ],
      "text/plain": [
       "   he  prize  for  guess  cinema  pleased  bonus  this  claim  to  ...    \\\n",
       "0   1      0    0      1       0        0      0     0      0   0  ...     \n",
       "\n",
       "   have  dinner  won  worry  you  reply  am  with  are  label  \n",
       "0     0       0    0      1    0      0   0     0    0    0.0  \n",
       "\n",
       "[1 rows x 42 columns]"
      ]
     },
     "execution_count": 7,
     "metadata": {},
     "output_type": "execute_result"
    }
   ],
   "source": [
    "data_collection = [{\"text\" : text, \"label\" : label} for text, label in zip(df['text'].tolist(),\n",
    "                                                                           df['label'].tolist())]\n",
    "df2 = pd.DataFrame(columns = tokens)\n",
    "add_to_df(df = df2, text = \"Dont worry. I guess he is busy.\", label = \"not spam\")"
   ]
  },
  {
   "cell_type": "code",
   "execution_count": 8,
   "metadata": {},
   "outputs": [],
   "source": [
    "df2 = pd.DataFrame(columns = tokens)\n",
    "for data in data_collection:\n",
    "    df2 = add_to_df(df = df2, **data)\n"
   ]
  },
  {
   "cell_type": "code",
   "execution_count": 9,
   "metadata": {},
   "outputs": [
    {
     "name": "stdout",
     "output_type": "stream",
     "text": [
      " total : 5 \n",
      " positive : 3 \n",
      " negative :  2\n",
      "\n",
      " positive probablity : 0.6 \n",
      " negative probalbity :  0.4\n"
     ]
    }
   ],
   "source": [
    "total = len(df2[\"label\"])\n",
    "positive = len(df2[(df2[\"label\"] == 1)])\n",
    "negative = total-positive\n",
    "positive_prob = positive/total\n",
    "negative_prob = negative/total\n",
    "\n",
    "print(\" total :\", total,\"\\n\",\"positive :\", positive, \"\\n\",\"negative : \", negative)\n",
    "print()\n",
    "print(\" positive probablity :\", positive_prob, \"\\n\",\"negative probalbity : \", negative_prob)\n"
   ]
  },
  {
   "cell_type": "code",
   "execution_count": 10,
   "metadata": {},
   "outputs": [
    {
     "data": {
      "text/plain": [
       "0    1\n",
       "1    0\n",
       "2    0\n",
       "Name: mobile, dtype: int64"
      ]
     },
     "execution_count": 10,
     "metadata": {},
     "output_type": "execute_result"
    }
   ],
   "source": [
    "df2[(df2[\"label\"] == 1)][\"mobile\"]"
   ]
  },
  {
   "cell_type": "code",
   "execution_count": 11,
   "metadata": {},
   "outputs": [],
   "source": [
    "# prop_yes_given_word = (np.sum(df2[(df2[\"label\"] == 1)][\"you\"]) + 1)/positive\n",
    "# prop_yes_given_word"
   ]
  },
  {
   "cell_type": "code",
   "execution_count": 12,
   "metadata": {},
   "outputs": [
    {
     "name": "stdout",
     "output_type": "stream",
     "text": [
      "Spam :  0.03292181069958847\n",
      "Not Spam:  0.5\n"
     ]
    }
   ],
   "source": [
    "prop_yes_given_word = 1\n",
    "sentence = \"I am busy. I will msg you later.\"\n",
    "for word in sentence.split(\" \"):\n",
    "        word = filter_word(word)\n",
    "        if(word and word in df2.columns.tolist()):\n",
    "            prop_yes_given_word *= (np.sum(df2[(df2[\"label\"] == 1)][word]) + 1)/positive\n",
    "prop_no_given_word = 1\n",
    "\n",
    "for word in sentence.split(\" \"):\n",
    "    word = filter_word(word)\n",
    "    if(word and word in df2.columns.tolist()):\n",
    "        prop_no_given_word *= (np.sum(df2[(df2[\"label\"] == 0)][word]) + 1)/negative\n",
    "\n",
    "\n",
    "print(\"Spam : \", prop_yes_given_word)\n",
    "print(\"Not Spam: \",prop_no_given_word)"
   ]
  },
  {
   "cell_type": "code",
   "execution_count": null,
   "metadata": {},
   "outputs": [],
   "source": []
  },
  {
   "cell_type": "code",
   "execution_count": 16,
   "metadata": {},
   "outputs": [],
   "source": [
    "!open ."
   ]
  },
  {
   "cell_type": "code",
   "execution_count": null,
   "metadata": {},
   "outputs": [],
   "source": []
  }
 ],
 "metadata": {
  "kernelspec": {
   "display_name": "Python 3",
   "language": "python",
   "name": "python3"
  },
  "language_info": {
   "codemirror_mode": {
    "name": "ipython",
    "version": 3
   },
   "file_extension": ".py",
   "mimetype": "text/x-python",
   "name": "python",
   "nbconvert_exporter": "python",
   "pygments_lexer": "ipython3",
   "version": "3.7.1"
  }
 },
 "nbformat": 4,
 "nbformat_minor": 2
}
