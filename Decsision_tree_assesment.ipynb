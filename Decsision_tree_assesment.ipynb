{
 "cells": [
  {
   "cell_type": "code",
   "execution_count": 39,
   "metadata": {},
   "outputs": [],
   "source": [
    "import pandas as pd\n",
    "import numpy as np"
   ]
  },
  {
   "cell_type": "code",
   "execution_count": 40,
   "metadata": {},
   "outputs": [],
   "source": [
    "data = \"\"\"Outlook Temp. Humidity Wind Decision \n",
    "Sunny Hot High Weak No\n",
    "Sunny Hot High Strong No\n",
    "Overcast Hot High Weak Yes\n",
    "Rain Mild High Weak Yes\n",
    "Rain Cool Normal Weak Yes\n",
    "Rain Cool Normal Strong No\n",
    "Overcast Cool Normal Strong Yes\n",
    "Sunny Mild High Weak No\n",
    "Sunny Cool Normal Weak Yes\n",
    "Rain Mild Normal Weak Yes\n",
    "Sunny Mild Normal Strong Yes\n",
    "Overcast Mild High Strong Yes\n",
    "Overcast Hot Normal Weak Yes\n",
    "Rain Mild High Strong No\"\"\""
   ]
  },
  {
   "cell_type": "code",
   "execution_count": 41,
   "metadata": {},
   "outputs": [],
   "source": [
    "characters = data.split(\"\\n\")"
   ]
  },
  {
   "cell_type": "code",
   "execution_count": 42,
   "metadata": {},
   "outputs": [],
   "source": [
    "title = characters.pop(0).split(\" \")\n",
    "del characters[0]\n"
   ]
  },
  {
   "cell_type": "code",
   "execution_count": 43,
   "metadata": {},
   "outputs": [],
   "source": [
    "chars = [character.split(\" \") for character in characters]"
   ]
  },
  {
   "cell_type": "code",
   "execution_count": 44,
   "metadata": {},
   "outputs": [
    {
     "data": {
      "text/plain": [
       "[['Sunny', 'Hot', 'High', 'Strong', 'No'],\n",
       " ['Overcast', 'Hot', 'High', 'Weak', 'Yes'],\n",
       " ['Rain', 'Mild', 'High', 'Weak', 'Yes'],\n",
       " ['Rain', 'Cool', 'Normal', 'Weak', 'Yes'],\n",
       " ['Rain', 'Cool', 'Normal', 'Strong', 'No'],\n",
       " ['Overcast', 'Cool', 'Normal', 'Strong', 'Yes'],\n",
       " ['Sunny', 'Mild', 'High', 'Weak', 'No'],\n",
       " ['Sunny', 'Cool', 'Normal', 'Weak', 'Yes'],\n",
       " ['Rain', 'Mild', 'Normal', 'Weak', 'Yes'],\n",
       " ['Sunny', 'Mild', 'Normal', 'Strong', 'Yes'],\n",
       " ['Overcast', 'Mild', 'High', 'Strong', 'Yes'],\n",
       " ['Overcast', 'Hot', 'Normal', 'Weak', 'Yes'],\n",
       " ['Rain', 'Mild', 'High', 'Strong', 'No']]"
      ]
     },
     "execution_count": 44,
     "metadata": {},
     "output_type": "execute_result"
    }
   ],
   "source": [
    "chars"
   ]
  },
  {
   "cell_type": "code",
   "execution_count": 45,
   "metadata": {},
   "outputs": [
    {
     "data": {
      "text/plain": [
       "['Outlook', 'Temp.', 'Humidity', 'Wind', 'Decision', '']"
      ]
     },
     "execution_count": 45,
     "metadata": {},
     "output_type": "execute_result"
    }
   ],
   "source": [
    "title"
   ]
  },
  {
   "cell_type": "code",
   "execution_count": 46,
   "metadata": {},
   "outputs": [],
   "source": [
    "data = pd.DataFrame(chars, columns = title[:-1])\n",
    "data.head()\n",
    "unique_items = dict()\n",
    "for col in data.columns:\n",
    "    unique_items[col] = np.array(data[col].unique())\n",
    "# for col in data.columns:\n",
    "#     data[f\"_{col}\"] = data[col].apply(lambda x: list(data[col].unique()).index(x))"
   ]
  },
  {
   "cell_type": "code",
   "execution_count": 47,
   "metadata": {},
   "outputs": [
    {
     "data": {
      "text/html": [
       "<div>\n",
       "<style scoped>\n",
       "    .dataframe tbody tr th:only-of-type {\n",
       "        vertical-align: middle;\n",
       "    }\n",
       "\n",
       "    .dataframe tbody tr th {\n",
       "        vertical-align: top;\n",
       "    }\n",
       "\n",
       "    .dataframe thead th {\n",
       "        text-align: right;\n",
       "    }\n",
       "</style>\n",
       "<table border=\"1\" class=\"dataframe\">\n",
       "  <thead>\n",
       "    <tr style=\"text-align: right;\">\n",
       "      <th></th>\n",
       "      <th>Outlook</th>\n",
       "      <th>Temp.</th>\n",
       "      <th>Humidity</th>\n",
       "      <th>Wind</th>\n",
       "      <th>Decision</th>\n",
       "    </tr>\n",
       "  </thead>\n",
       "  <tbody>\n",
       "    <tr>\n",
       "      <th>0</th>\n",
       "      <td>Sunny</td>\n",
       "      <td>Hot</td>\n",
       "      <td>High</td>\n",
       "      <td>Strong</td>\n",
       "      <td>No</td>\n",
       "    </tr>\n",
       "    <tr>\n",
       "      <th>1</th>\n",
       "      <td>Overcast</td>\n",
       "      <td>Hot</td>\n",
       "      <td>High</td>\n",
       "      <td>Weak</td>\n",
       "      <td>Yes</td>\n",
       "    </tr>\n",
       "    <tr>\n",
       "      <th>2</th>\n",
       "      <td>Rain</td>\n",
       "      <td>Mild</td>\n",
       "      <td>High</td>\n",
       "      <td>Weak</td>\n",
       "      <td>Yes</td>\n",
       "    </tr>\n",
       "    <tr>\n",
       "      <th>3</th>\n",
       "      <td>Rain</td>\n",
       "      <td>Cool</td>\n",
       "      <td>Normal</td>\n",
       "      <td>Weak</td>\n",
       "      <td>Yes</td>\n",
       "    </tr>\n",
       "    <tr>\n",
       "      <th>4</th>\n",
       "      <td>Rain</td>\n",
       "      <td>Cool</td>\n",
       "      <td>Normal</td>\n",
       "      <td>Strong</td>\n",
       "      <td>No</td>\n",
       "    </tr>\n",
       "    <tr>\n",
       "      <th>5</th>\n",
       "      <td>Overcast</td>\n",
       "      <td>Cool</td>\n",
       "      <td>Normal</td>\n",
       "      <td>Strong</td>\n",
       "      <td>Yes</td>\n",
       "    </tr>\n",
       "    <tr>\n",
       "      <th>6</th>\n",
       "      <td>Sunny</td>\n",
       "      <td>Mild</td>\n",
       "      <td>High</td>\n",
       "      <td>Weak</td>\n",
       "      <td>No</td>\n",
       "    </tr>\n",
       "    <tr>\n",
       "      <th>7</th>\n",
       "      <td>Sunny</td>\n",
       "      <td>Cool</td>\n",
       "      <td>Normal</td>\n",
       "      <td>Weak</td>\n",
       "      <td>Yes</td>\n",
       "    </tr>\n",
       "    <tr>\n",
       "      <th>8</th>\n",
       "      <td>Rain</td>\n",
       "      <td>Mild</td>\n",
       "      <td>Normal</td>\n",
       "      <td>Weak</td>\n",
       "      <td>Yes</td>\n",
       "    </tr>\n",
       "    <tr>\n",
       "      <th>9</th>\n",
       "      <td>Sunny</td>\n",
       "      <td>Mild</td>\n",
       "      <td>Normal</td>\n",
       "      <td>Strong</td>\n",
       "      <td>Yes</td>\n",
       "    </tr>\n",
       "    <tr>\n",
       "      <th>10</th>\n",
       "      <td>Overcast</td>\n",
       "      <td>Mild</td>\n",
       "      <td>High</td>\n",
       "      <td>Strong</td>\n",
       "      <td>Yes</td>\n",
       "    </tr>\n",
       "    <tr>\n",
       "      <th>11</th>\n",
       "      <td>Overcast</td>\n",
       "      <td>Hot</td>\n",
       "      <td>Normal</td>\n",
       "      <td>Weak</td>\n",
       "      <td>Yes</td>\n",
       "    </tr>\n",
       "    <tr>\n",
       "      <th>12</th>\n",
       "      <td>Rain</td>\n",
       "      <td>Mild</td>\n",
       "      <td>High</td>\n",
       "      <td>Strong</td>\n",
       "      <td>No</td>\n",
       "    </tr>\n",
       "  </tbody>\n",
       "</table>\n",
       "</div>"
      ],
      "text/plain": [
       "     Outlook Temp. Humidity    Wind Decision\n",
       "0      Sunny   Hot     High  Strong       No\n",
       "1   Overcast   Hot     High    Weak      Yes\n",
       "2       Rain  Mild     High    Weak      Yes\n",
       "3       Rain  Cool   Normal    Weak      Yes\n",
       "4       Rain  Cool   Normal  Strong       No\n",
       "5   Overcast  Cool   Normal  Strong      Yes\n",
       "6      Sunny  Mild     High    Weak       No\n",
       "7      Sunny  Cool   Normal    Weak      Yes\n",
       "8       Rain  Mild   Normal    Weak      Yes\n",
       "9      Sunny  Mild   Normal  Strong      Yes\n",
       "10  Overcast  Mild     High  Strong      Yes\n",
       "11  Overcast   Hot   Normal    Weak      Yes\n",
       "12      Rain  Mild     High  Strong       No"
      ]
     },
     "execution_count": 47,
     "metadata": {},
     "output_type": "execute_result"
    }
   ],
   "source": [
    "data"
   ]
  },
  {
   "cell_type": "code",
   "execution_count": 48,
   "metadata": {},
   "outputs": [],
   "source": [
    "data_series = data[\"Outlook\"]\n",
    "explored_set = list()"
   ]
  },
  {
   "cell_type": "code",
   "execution_count": 49,
   "metadata": {},
   "outputs": [],
   "source": [
    "def word_count(data):\n",
    "    items = data.unique()\n",
    "    count = dict()\n",
    "    #iterating through dict and initializing the count value of each unique item in column\n",
    "    for item in items:\n",
    "        count[item] = 0\n",
    "\n",
    "    # iterating though the column and updating the each word count\n",
    "    for i in data:\n",
    "        for item in count:\n",
    "            if i == item:\n",
    "                count[item] += 1\n",
    "    return count\n",
    "    "
   ]
  },
  {
   "cell_type": "code",
   "execution_count": 50,
   "metadata": {},
   "outputs": [],
   "source": [
    "col_word_frequency = dict()\n",
    "for col in data.columns:\n",
    "    col_word_frequency[col] = word_count(data[col])\n",
    "    "
   ]
  },
  {
   "cell_type": "code",
   "execution_count": 51,
   "metadata": {},
   "outputs": [
    {
     "data": {
      "text/plain": [
       "{'Outlook': {'Sunny': 4, 'Overcast': 4, 'Rain': 5},\n",
       " 'Temp.': {'Hot': 3, 'Mild': 6, 'Cool': 4},\n",
       " 'Humidity': {'High': 6, 'Normal': 7},\n",
       " 'Wind': {'Strong': 6, 'Weak': 7},\n",
       " 'Decision': {'No': 4, 'Yes': 9}}"
      ]
     },
     "execution_count": 51,
     "metadata": {},
     "output_type": "execute_result"
    }
   ],
   "source": [
    "col_word_frequency"
   ]
  },
  {
   "cell_type": "code",
   "execution_count": null,
   "metadata": {},
   "outputs": [],
   "source": []
  },
  {
   "cell_type": "code",
   "execution_count": 52,
   "metadata": {},
   "outputs": [],
   "source": [
    "def check_positive_count(col, item = None):\n",
    "    items = dict()\n",
    "    if item:\n",
    "        total_item = len(data[data[col] == item])\n",
    "        positive_item = len(data[(data[col] == item) & (data[\"Decision\"] == \"Yes\")])\n",
    "        items = {\"total\" : total_item, \"positive\" : positive_item}\n",
    "    else:\n",
    "        total_item = len(data[col])\n",
    "        positive_item = len((data[data[\"Decision\"] == \"Yes\"]))\n",
    "        items = {\"positive\" : positive_item, \"total\" : total_item}\n",
    "    return items\n",
    "    "
   ]
  },
  {
   "cell_type": "code",
   "execution_count": 53,
   "metadata": {},
   "outputs": [
    {
     "data": {
      "text/plain": [
       "{'positive': 9, 'total': 13}"
      ]
     },
     "execution_count": 53,
     "metadata": {},
     "output_type": "execute_result"
    }
   ],
   "source": [
    "check_positive_count(\"Outlook\")"
   ]
  },
  {
   "cell_type": "code",
   "execution_count": 54,
   "metadata": {},
   "outputs": [
    {
     "data": {
      "text/plain": [
       "{'total': 5, 'positive': 3}"
      ]
     },
     "execution_count": 54,
     "metadata": {},
     "output_type": "execute_result"
    }
   ],
   "source": [
    "check_positive_count(\"Outlook\", \"Rain\")"
   ]
  },
  {
   "cell_type": "code",
   "execution_count": null,
   "metadata": {},
   "outputs": [],
   "source": []
  },
  {
   "cell_type": "code",
   "execution_count": 55,
   "metadata": {},
   "outputs": [],
   "source": [
    "def get_column_entropy(col):\n",
    "    unique_items = data[col].unique()\n",
    "    entropy = 0\n",
    "    for item in unique_items:\n",
    "        positive_count = check_positive_count(col, item)\n",
    "        positive_probablity = positive_count.get('positive')/positive_count.get('total')\n",
    "        negative_probablity = (positive_count.get('total')-positive_count.get('positive'))/positive_count.get('total')\n",
    "        new_entropy = -(positive_probablity)*np.log(positive_probablity)-(negative_probablity)*np.log(negative_probablity)\n",
    "        if new_entropy > entropy:\n",
    "            entropy = new_entropy\n",
    "    return entropy"
   ]
  },
  {
   "cell_type": "code",
   "execution_count": 56,
   "metadata": {},
   "outputs": [],
   "source": [
    "def get_root_count(data):\n",
    "    columns = data[\"Decision\"]\n",
    "    count = dict()\n",
    "    positive_no = len(data[data[\"Decision\"] == \"Yes\"])\n",
    "    count[\"positive\"] = positive_no\n",
    "    count[\"total\"] = len(data[\"Decision\"])\n",
    "    return count"
   ]
  },
  {
   "cell_type": "code",
   "execution_count": 57,
   "metadata": {},
   "outputs": [
    {
     "data": {
      "text/plain": [
       "{'positive': 9, 'total': 13}"
      ]
     },
     "execution_count": 57,
     "metadata": {},
     "output_type": "execute_result"
    }
   ],
   "source": [
    "get_root_count(data)"
   ]
  },
  {
   "cell_type": "code",
   "execution_count": null,
   "metadata": {},
   "outputs": [],
   "source": []
  },
  {
   "cell_type": "code",
   "execution_count": 58,
   "metadata": {},
   "outputs": [],
   "source": [
    "def calculate_entropy(positive, total):\n",
    "    if total== 0:\n",
    "        return total\n",
    "    positive_probablity = positive/total\n",
    "    negative_probablity = (total-positive)/total\n",
    "    entropy = -positive_probablity*np.log(positive_probablity)-negative_probablity*np.log(negative_probablity)\n",
    "    return entropy"
   ]
  },
  {
   "cell_type": "code",
   "execution_count": 59,
   "metadata": {},
   "outputs": [],
   "source": [
    "def calculate_gain(root_entropy, child_node_count, total_count, column):\n",
    "    node_sum = 0\n",
    "    for key, value in child_node_count.items():\n",
    "        node_entropy = get_entropy(column, key)\n",
    "        node_value = child_node_count[key]/total_count * node_entropy\n",
    "        node_sum+= node_value      \n",
    "    return root_entropy - node_sum\n",
    "    "
   ]
  },
  {
   "cell_type": "code",
   "execution_count": null,
   "metadata": {},
   "outputs": [],
   "source": []
  },
  {
   "cell_type": "code",
   "execution_count": 60,
   "metadata": {},
   "outputs": [],
   "source": [
    "def get_column_details(column):\n",
    "    column_count = check_positive_count(column)\n",
    "    column_entropy = calculate_entropy(**column_count)\n",
    "    child_node_count = word_count(data[column])\n",
    "\n",
    "    column_details = {\"Column\" : column, \"Count\":column_count, \n",
    "                      \"Column_entropy\": column_entropy, \"Node Count\":child_node_count}\n",
    "\n",
    "    node_entropy_list = []\n",
    "    column_gain = column_entropy\n",
    "    for key, value in child_node_count.items():\n",
    "        node_count = check_positive_count(column, key)\n",
    "        node_entropy = calculate_entropy(**node_count) if not np.isnan(calculate_entropy(**node_count)) else 0\n",
    "        node_entropy_dict={\"name\" : key, \"count\" : node_count, \"entropy\":node_entropy}\n",
    "        node_entropy_list.append(node_entropy_dict)\n",
    "        column_gain -= (node_count['total']/column_count['total']) * node_entropy\n",
    "    column_details[\"node_entropy\"] = node_entropy_list\n",
    "    column_details[\"gain\"] = column_gain\n",
    "    return column_details\n",
    "    \n"
   ]
  },
  {
   "cell_type": "code",
   "execution_count": 61,
   "metadata": {},
   "outputs": [
    {
     "data": {
      "text/plain": [
       "Index(['Outlook', 'Temp.', 'Humidity', 'Wind', 'Decision'], dtype='object')"
      ]
     },
     "execution_count": 61,
     "metadata": {},
     "output_type": "execute_result"
    }
   ],
   "source": [
    "data.columns"
   ]
  },
  {
   "cell_type": "code",
   "execution_count": 62,
   "metadata": {},
   "outputs": [
    {
     "data": {
      "text/plain": [
       "{'Column': 'Wind',\n",
       " 'Count': {'positive': 9, 'total': 13},\n",
       " 'Column_entropy': 0.6172417697303416,\n",
       " 'Node Count': {'Strong': 6, 'Weak': 7},\n",
       " 'node_entropy': [{'name': 'Strong',\n",
       "   'count': {'total': 6, 'positive': 3},\n",
       "   'entropy': 0.6931471805599453},\n",
       "  {'name': 'Weak',\n",
       "   'count': {'total': 7, 'positive': 6},\n",
       "   'entropy': 0.410116318288409}],\n",
       " 'gain': 0.07649582270122357}"
      ]
     },
     "execution_count": 62,
     "metadata": {},
     "output_type": "execute_result"
    }
   ],
   "source": [
    "get_column_details(\"Wind\")"
   ]
  },
  {
   "cell_type": "code",
   "execution_count": 63,
   "metadata": {},
   "outputs": [],
   "source": [
    "def get_highest_gain():\n",
    "    gain = 0\n",
    "    high_gain_col = \"\"\n",
    "    for col in data.columns[:-1]:\n",
    "        if (col not in explored_set):\n",
    "            new_gain = get_column_details(col)[\"gain\"]\n",
    "            if(new_gain > gain):\n",
    "                gain = new_gain\n",
    "                high_gain_col = col\n",
    "    print(\"column : \", high_gain_col, \"highest gain : \", gain)"
   ]
  },
  {
   "cell_type": "code",
   "execution_count": 64,
   "metadata": {},
   "outputs": [
    {
     "name": "stdout",
     "output_type": "stream",
     "text": [
      "column :  Outlook highest gain :  0.145115073016029\n"
     ]
    },
    {
     "name": "stderr",
     "output_type": "stream",
     "text": [
      "/Library/Frameworks/Python.framework/Versions/3.7/lib/python3.7/site-packages/ipykernel_launcher.py:6: RuntimeWarning: divide by zero encountered in log\n",
      "  \n",
      "/Library/Frameworks/Python.framework/Versions/3.7/lib/python3.7/site-packages/ipykernel_launcher.py:6: RuntimeWarning: invalid value encountered in double_scalars\n",
      "  \n"
     ]
    }
   ],
   "source": [
    "get_highest_gain()"
   ]
  },
  {
   "cell_type": "code",
   "execution_count": 65,
   "metadata": {},
   "outputs": [
    {
     "name": "stdout",
     "output_type": "stream",
     "text": [
      "Sunny\n",
      "Overcast\n",
      "Rain\n"
     ]
    }
   ],
   "source": [
    "column = \"Outlook\"\n",
    "for node in data[column].unique():\n",
    "    print(node)"
   ]
  },
  {
   "cell_type": "code",
   "execution_count": 66,
   "metadata": {
    "scrolled": true
   },
   "outputs": [
    {
     "name": "stdout",
     "output_type": "stream",
     "text": [
      "Outlook\n",
      "     Sunny\n",
      "     Overcast\n",
      "     Rain\n",
      "\n",
      "Temp.\n",
      "     Hot\n",
      "     Mild\n",
      "     Cool\n",
      "\n",
      "Humidity\n",
      "     High\n",
      "     Normal\n",
      "\n",
      "Wind\n",
      "     Strong\n",
      "     Weak\n",
      "\n",
      "Decision\n",
      "     No\n",
      "     Yes\n",
      "\n"
     ]
    }
   ],
   "source": [
    "for col in data.columns:\n",
    "    print(col)\n",
    "    for node in data[col].unique():\n",
    "        print(\"    \",node)\n",
    "    print()"
   ]
  },
  {
   "cell_type": "code",
   "execution_count": null,
   "metadata": {},
   "outputs": [],
   "source": []
  },
  {
   "cell_type": "code",
   "execution_count": 67,
   "metadata": {},
   "outputs": [],
   "source": [
    "def get_child_count(parent_column,parent_node, current_column, current_node):\n",
    "    total_count = len(data[(data[parent_column] == parent_node) & (data[current_column] == current_node)])\n",
    "    positive_count = len(data[(data[parent_column] == parent_node) & \n",
    "                              (data[current_column] == current_node) & (data[\"Decision\"] == \"Yes\")])\n",
    "#     print(\"Current Node: \", f\"{parent_node}-{current_node}\",\"positive: \", positive_count, \"total: \", total_count)\n",
    "    return ({ \"positive\": positive_count, \"total\": total_count})"
   ]
  },
  {
   "cell_type": "code",
   "execution_count": 68,
   "metadata": {},
   "outputs": [],
   "source": [
    "def get_child_nodes_entropy(column, node, child_column):\n",
    "    child_node_list = []\n",
    "    for node_2 in data[child_column].unique():\n",
    "        child_column_count = get_child_count(column, node, child_column, node_2)\n",
    "#         print(\"node\", node,\"node2 : \",node_2, \"column_count\", child_column_count)\n",
    "        child_entropy = calculate_entropy(**child_column_count) if not np.isnan(calculate_entropy(**child_column_count)) else 0\n",
    "\n",
    "        count_name = f\"{node}-{node_2}\"\n",
    "        node2_dict = dict()\n",
    "        node2_dict[count_name] = {\"total\": child_column_count['total'], \"entropy\": child_entropy}\n",
    "        child_node_list.append(node2_dict)\n",
    "    return child_node_list"
   ]
  },
  {
   "cell_type": "code",
   "execution_count": 69,
   "metadata": {},
   "outputs": [],
   "source": [
    "def calculate_child_gain(column, node, child_column):\n",
    "    explored_set.append(column)\n",
    "    parent_count = check_positive_count(column, node)\n",
    "    parent_entropy = calculate_entropy(**parent_count)\n",
    "    \n",
    "#     print(\"Parent count\", parent_count)\n",
    "#     print(parent_count)\n",
    "#     print(\"column:\", column)\n",
    "#     print(\"Parent entropy:\", parent_entropy)\n",
    "    \n",
    "    get_child_nodes = get_child_nodes_entropy(column, node, child_column)\n",
    "    \n",
    "    gain = parent_entropy \n",
    "#     print(\"Child Node Entropy: \\n\", get_child_nodes)\n",
    "\n",
    "\n",
    "\n",
    "    for i in get_child_nodes:\n",
    "        for key, value in i.items():\n",
    "            total = i[key][\"total\"]\n",
    "            entropy = i[key]['entropy']\n",
    "            foo = (total/parent_count['total']) * entropy\n",
    "            gain -= foo\n",
    "#     print(\"child_gain :\", gain )\n",
    "    return gain"
   ]
  },
  {
   "cell_type": "code",
   "execution_count": 70,
   "metadata": {},
   "outputs": [],
   "source": [
    "def get_remaining_column(explored_column_list):\n",
    "    column_list = set(data.columns[:-1])\n",
    "    new_column_list = set()\n",
    "    if(len(explored_column_list) == 0):\n",
    "        return column_list\n",
    "    \n",
    "    for i in column_list:\n",
    "        if i not in explored_column_list:\n",
    "            new_column_list.add(i);\n",
    "    return new_column_list\n"
   ]
  },
  {
   "cell_type": "code",
   "execution_count": 71,
   "metadata": {},
   "outputs": [
    {
     "data": {
      "text/html": [
       "<div>\n",
       "<style scoped>\n",
       "    .dataframe tbody tr th:only-of-type {\n",
       "        vertical-align: middle;\n",
       "    }\n",
       "\n",
       "    .dataframe tbody tr th {\n",
       "        vertical-align: top;\n",
       "    }\n",
       "\n",
       "    .dataframe thead th {\n",
       "        text-align: right;\n",
       "    }\n",
       "</style>\n",
       "<table border=\"1\" class=\"dataframe\">\n",
       "  <thead>\n",
       "    <tr style=\"text-align: right;\">\n",
       "      <th></th>\n",
       "      <th>Outlook</th>\n",
       "      <th>Temp.</th>\n",
       "      <th>Humidity</th>\n",
       "      <th>Wind</th>\n",
       "      <th>Decision</th>\n",
       "    </tr>\n",
       "  </thead>\n",
       "  <tbody>\n",
       "    <tr>\n",
       "      <th>0</th>\n",
       "      <td>Sunny</td>\n",
       "      <td>Hot</td>\n",
       "      <td>High</td>\n",
       "      <td>Strong</td>\n",
       "      <td>No</td>\n",
       "    </tr>\n",
       "    <tr>\n",
       "      <th>1</th>\n",
       "      <td>Overcast</td>\n",
       "      <td>Hot</td>\n",
       "      <td>High</td>\n",
       "      <td>Weak</td>\n",
       "      <td>Yes</td>\n",
       "    </tr>\n",
       "    <tr>\n",
       "      <th>2</th>\n",
       "      <td>Rain</td>\n",
       "      <td>Mild</td>\n",
       "      <td>High</td>\n",
       "      <td>Weak</td>\n",
       "      <td>Yes</td>\n",
       "    </tr>\n",
       "    <tr>\n",
       "      <th>3</th>\n",
       "      <td>Rain</td>\n",
       "      <td>Cool</td>\n",
       "      <td>Normal</td>\n",
       "      <td>Weak</td>\n",
       "      <td>Yes</td>\n",
       "    </tr>\n",
       "    <tr>\n",
       "      <th>4</th>\n",
       "      <td>Rain</td>\n",
       "      <td>Cool</td>\n",
       "      <td>Normal</td>\n",
       "      <td>Strong</td>\n",
       "      <td>No</td>\n",
       "    </tr>\n",
       "    <tr>\n",
       "      <th>5</th>\n",
       "      <td>Overcast</td>\n",
       "      <td>Cool</td>\n",
       "      <td>Normal</td>\n",
       "      <td>Strong</td>\n",
       "      <td>Yes</td>\n",
       "    </tr>\n",
       "    <tr>\n",
       "      <th>6</th>\n",
       "      <td>Sunny</td>\n",
       "      <td>Mild</td>\n",
       "      <td>High</td>\n",
       "      <td>Weak</td>\n",
       "      <td>No</td>\n",
       "    </tr>\n",
       "    <tr>\n",
       "      <th>7</th>\n",
       "      <td>Sunny</td>\n",
       "      <td>Cool</td>\n",
       "      <td>Normal</td>\n",
       "      <td>Weak</td>\n",
       "      <td>Yes</td>\n",
       "    </tr>\n",
       "    <tr>\n",
       "      <th>8</th>\n",
       "      <td>Rain</td>\n",
       "      <td>Mild</td>\n",
       "      <td>Normal</td>\n",
       "      <td>Weak</td>\n",
       "      <td>Yes</td>\n",
       "    </tr>\n",
       "    <tr>\n",
       "      <th>9</th>\n",
       "      <td>Sunny</td>\n",
       "      <td>Mild</td>\n",
       "      <td>Normal</td>\n",
       "      <td>Strong</td>\n",
       "      <td>Yes</td>\n",
       "    </tr>\n",
       "    <tr>\n",
       "      <th>10</th>\n",
       "      <td>Overcast</td>\n",
       "      <td>Mild</td>\n",
       "      <td>High</td>\n",
       "      <td>Strong</td>\n",
       "      <td>Yes</td>\n",
       "    </tr>\n",
       "    <tr>\n",
       "      <th>11</th>\n",
       "      <td>Overcast</td>\n",
       "      <td>Hot</td>\n",
       "      <td>Normal</td>\n",
       "      <td>Weak</td>\n",
       "      <td>Yes</td>\n",
       "    </tr>\n",
       "    <tr>\n",
       "      <th>12</th>\n",
       "      <td>Rain</td>\n",
       "      <td>Mild</td>\n",
       "      <td>High</td>\n",
       "      <td>Strong</td>\n",
       "      <td>No</td>\n",
       "    </tr>\n",
       "  </tbody>\n",
       "</table>\n",
       "</div>"
      ],
      "text/plain": [
       "     Outlook Temp. Humidity    Wind Decision\n",
       "0      Sunny   Hot     High  Strong       No\n",
       "1   Overcast   Hot     High    Weak      Yes\n",
       "2       Rain  Mild     High    Weak      Yes\n",
       "3       Rain  Cool   Normal    Weak      Yes\n",
       "4       Rain  Cool   Normal  Strong       No\n",
       "5   Overcast  Cool   Normal  Strong      Yes\n",
       "6      Sunny  Mild     High    Weak       No\n",
       "7      Sunny  Cool   Normal    Weak      Yes\n",
       "8       Rain  Mild   Normal    Weak      Yes\n",
       "9      Sunny  Mild   Normal  Strong      Yes\n",
       "10  Overcast  Mild     High  Strong      Yes\n",
       "11  Overcast   Hot   Normal    Weak      Yes\n",
       "12      Rain  Mild     High  Strong       No"
      ]
     },
     "execution_count": 71,
     "metadata": {},
     "output_type": "execute_result"
    }
   ],
   "source": [
    "data"
   ]
  },
  {
   "cell_type": "code",
   "execution_count": 72,
   "metadata": {},
   "outputs": [],
   "source": [
    "def get_child_highest_gain(column, node):\n",
    "    gain = 0;\n",
    "    selected_combo = dict()\n",
    "    for i, col in enumerate(data.columns[:-1]):\n",
    "        if col != column and col not in explored_set:\n",
    "#             print(\"column: \", column, \"node: \", node, \"col: \", col)\n",
    "            new_gain = calculate_child_gain(column, node, col)\n",
    "            if new_gain > gain:\n",
    "                gain = new_gain\n",
    "                selected_combo[\"column\"] = col\n",
    "                selected_combo[\"gain\"] = gain\n",
    "    return selected_combo"
   ]
  },
  {
   "cell_type": "code",
   "execution_count": 73,
   "metadata": {},
   "outputs": [
    {
     "name": "stdout",
     "output_type": "stream",
     "text": [
      "{'column': 'Wind', 'gain': 0.6730116670092565}\n"
     ]
    },
    {
     "name": "stderr",
     "output_type": "stream",
     "text": [
      "/Library/Frameworks/Python.framework/Versions/3.7/lib/python3.7/site-packages/ipykernel_launcher.py:6: RuntimeWarning: divide by zero encountered in log\n",
      "  \n",
      "/Library/Frameworks/Python.framework/Versions/3.7/lib/python3.7/site-packages/ipykernel_launcher.py:6: RuntimeWarning: invalid value encountered in double_scalars\n",
      "  \n"
     ]
    }
   ],
   "source": [
    "\"\"\"\n",
    "For accurate result must restart and run all in kernel!!!\n",
    "For accurate result must restart and run all in kernel!!!\n",
    "For accurate result must restart and run all in kernel!!!\n",
    "\"\"\"\n",
    "\n",
    "column = \"Outlook\"\n",
    "node = \"Rain\"\n",
    "highest_gain = get_child_highest_gain(column, node)\n",
    "\n",
    "explored_set.append(highest_gain['column'])\n",
    "print(highest_gain)"
   ]
  },
  {
   "cell_type": "code",
   "execution_count": null,
   "metadata": {},
   "outputs": [],
   "source": []
  },
  {
   "cell_type": "code",
   "execution_count": null,
   "metadata": {},
   "outputs": [],
   "source": []
  },
  {
   "cell_type": "code",
   "execution_count": 82,
   "metadata": {},
   "outputs": [
    {
     "data": {
      "text/html": [
       "<div>\n",
       "<style scoped>\n",
       "    .dataframe tbody tr th:only-of-type {\n",
       "        vertical-align: middle;\n",
       "    }\n",
       "\n",
       "    .dataframe tbody tr th {\n",
       "        vertical-align: top;\n",
       "    }\n",
       "\n",
       "    .dataframe thead th {\n",
       "        text-align: right;\n",
       "    }\n",
       "</style>\n",
       "<table border=\"1\" class=\"dataframe\">\n",
       "  <thead>\n",
       "    <tr style=\"text-align: right;\">\n",
       "      <th></th>\n",
       "      <th>Outlook</th>\n",
       "      <th>Temp.</th>\n",
       "      <th>Humidity</th>\n",
       "      <th>Wind</th>\n",
       "      <th>Decision</th>\n",
       "    </tr>\n",
       "  </thead>\n",
       "  <tbody>\n",
       "    <tr>\n",
       "      <th>7</th>\n",
       "      <td>Sunny</td>\n",
       "      <td>Cool</td>\n",
       "      <td>Normal</td>\n",
       "      <td>Weak</td>\n",
       "      <td>Yes</td>\n",
       "    </tr>\n",
       "    <tr>\n",
       "      <th>9</th>\n",
       "      <td>Sunny</td>\n",
       "      <td>Mild</td>\n",
       "      <td>Normal</td>\n",
       "      <td>Strong</td>\n",
       "      <td>Yes</td>\n",
       "    </tr>\n",
       "  </tbody>\n",
       "</table>\n",
       "</div>"
      ],
      "text/plain": [
       "  Outlook Temp. Humidity    Wind Decision\n",
       "7   Sunny  Cool   Normal    Weak      Yes\n",
       "9   Sunny  Mild   Normal  Strong      Yes"
      ]
     },
     "execution_count": 82,
     "metadata": {},
     "output_type": "execute_result"
    }
   ],
   "source": [
    "col1 = \"Outlook\"\n",
    "node1 = \"Sunny\"\n",
    "col2 = \"Humidity\"\n",
    "node2 = \"Normal\"\n",
    "def get_select_list(col1, node1, col2, node2):\n",
    "    return data[(data[col1] == node1) & (data[col2] == node2)]\n",
    "get_select_list(col1, node1, col2, node2)"
   ]
  },
  {
   "cell_type": "code",
   "execution_count": 79,
   "metadata": {},
   "outputs": [
    {
     "data": {
      "text/html": [
       "<div>\n",
       "<style scoped>\n",
       "    .dataframe tbody tr th:only-of-type {\n",
       "        vertical-align: middle;\n",
       "    }\n",
       "\n",
       "    .dataframe tbody tr th {\n",
       "        vertical-align: top;\n",
       "    }\n",
       "\n",
       "    .dataframe thead th {\n",
       "        text-align: right;\n",
       "    }\n",
       "</style>\n",
       "<table border=\"1\" class=\"dataframe\">\n",
       "  <thead>\n",
       "    <tr style=\"text-align: right;\">\n",
       "      <th></th>\n",
       "      <th>Outlook</th>\n",
       "      <th>Temp.</th>\n",
       "      <th>Humidity</th>\n",
       "      <th>Wind</th>\n",
       "      <th>Decision</th>\n",
       "    </tr>\n",
       "  </thead>\n",
       "  <tbody>\n",
       "    <tr>\n",
       "      <th>1</th>\n",
       "      <td>Overcast</td>\n",
       "      <td>Hot</td>\n",
       "      <td>High</td>\n",
       "      <td>Weak</td>\n",
       "      <td>Yes</td>\n",
       "    </tr>\n",
       "    <tr>\n",
       "      <th>5</th>\n",
       "      <td>Overcast</td>\n",
       "      <td>Cool</td>\n",
       "      <td>Normal</td>\n",
       "      <td>Strong</td>\n",
       "      <td>Yes</td>\n",
       "    </tr>\n",
       "    <tr>\n",
       "      <th>10</th>\n",
       "      <td>Overcast</td>\n",
       "      <td>Mild</td>\n",
       "      <td>High</td>\n",
       "      <td>Strong</td>\n",
       "      <td>Yes</td>\n",
       "    </tr>\n",
       "    <tr>\n",
       "      <th>11</th>\n",
       "      <td>Overcast</td>\n",
       "      <td>Hot</td>\n",
       "      <td>Normal</td>\n",
       "      <td>Weak</td>\n",
       "      <td>Yes</td>\n",
       "    </tr>\n",
       "  </tbody>\n",
       "</table>\n",
       "</div>"
      ],
      "text/plain": [
       "     Outlook Temp. Humidity    Wind Decision\n",
       "1   Overcast   Hot     High    Weak      Yes\n",
       "5   Overcast  Cool   Normal  Strong      Yes\n",
       "10  Overcast  Mild     High  Strong      Yes\n",
       "11  Overcast   Hot   Normal    Weak      Yes"
      ]
     },
     "execution_count": 79,
     "metadata": {},
     "output_type": "execute_result"
    }
   ],
   "source": [
    "data[data[\"Outlook\"] == \"Overcast\"]"
   ]
  },
  {
   "cell_type": "code",
   "execution_count": null,
   "metadata": {},
   "outputs": [],
   "source": []
  },
  {
   "cell_type": "code",
   "execution_count": null,
   "metadata": {},
   "outputs": [],
   "source": []
  },
  {
   "cell_type": "code",
   "execution_count": null,
   "metadata": {},
   "outputs": [],
   "source": []
  },
  {
   "cell_type": "code",
   "execution_count": null,
   "metadata": {},
   "outputs": [],
   "source": []
  },
  {
   "cell_type": "code",
   "execution_count": null,
   "metadata": {},
   "outputs": [],
   "source": []
  },
  {
   "cell_type": "code",
   "execution_count": null,
   "metadata": {},
   "outputs": [],
   "source": []
  },
  {
   "cell_type": "code",
   "execution_count": null,
   "metadata": {},
   "outputs": [],
   "source": []
  },
  {
   "cell_type": "code",
   "execution_count": null,
   "metadata": {},
   "outputs": [],
   "source": []
  },
  {
   "cell_type": "code",
   "execution_count": null,
   "metadata": {},
   "outputs": [],
   "source": []
  },
  {
   "cell_type": "code",
   "execution_count": null,
   "metadata": {},
   "outputs": [],
   "source": []
  },
  {
   "cell_type": "code",
   "execution_count": null,
   "metadata": {},
   "outputs": [],
   "source": []
  }
 ],
 "metadata": {
  "kernelspec": {
   "display_name": "Python 3",
   "language": "python",
   "name": "python3"
  }
 },
 "nbformat": 4,
 "nbformat_minor": 2
}
