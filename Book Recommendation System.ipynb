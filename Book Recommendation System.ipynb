{
 "cells": [
  {
   "cell_type": "code",
   "execution_count": 1,
   "metadata": {},
   "outputs": [],
   "source": [
    "import pandas as pd\n",
    "import numpy as np"
   ]
  },
  {
   "cell_type": "code",
   "execution_count": 2,
   "metadata": {},
   "outputs": [],
   "source": [
    "columns = [\"Harry Potter\", \"Start with why\", \"Tom Sawyer\", \"Superman\", \"Rebecca\", \"Hamlet\"]\n",
    "index = [\"John\", \"Jeff\", \"Andrei\", \"Mike\", \"Mark\", \"Jason\"]\n",
    "ratings = [(5,7,6,7,5,6), (5,7,3,9,7,6), (7,7,6,8,5,9),(6,8,4,6,4,6),(6,8,9,9,7,6),(np.nan,9,np.nan,7,5,np.nan)]"
   ]
  },
  {
   "cell_type": "code",
   "execution_count": 3,
   "metadata": {},
   "outputs": [],
   "source": [
    "df = pd.DataFrame.from_records(ratings, columns = columns, index = index)"
   ]
  },
  {
   "cell_type": "code",
   "execution_count": 4,
   "metadata": {},
   "outputs": [
    {
     "data": {
      "text/html": [
       "<div>\n",
       "<style scoped>\n",
       "    .dataframe tbody tr th:only-of-type {\n",
       "        vertical-align: middle;\n",
       "    }\n",
       "\n",
       "    .dataframe tbody tr th {\n",
       "        vertical-align: top;\n",
       "    }\n",
       "\n",
       "    .dataframe thead th {\n",
       "        text-align: right;\n",
       "    }\n",
       "</style>\n",
       "<table border=\"1\" class=\"dataframe\">\n",
       "  <thead>\n",
       "    <tr style=\"text-align: right;\">\n",
       "      <th></th>\n",
       "      <th>Harry Potter</th>\n",
       "      <th>Start with why</th>\n",
       "      <th>Tom Sawyer</th>\n",
       "      <th>Superman</th>\n",
       "      <th>Rebecca</th>\n",
       "      <th>Hamlet</th>\n",
       "    </tr>\n",
       "  </thead>\n",
       "  <tbody>\n",
       "    <tr>\n",
       "      <th>John</th>\n",
       "      <td>5.0</td>\n",
       "      <td>7</td>\n",
       "      <td>6.0</td>\n",
       "      <td>7</td>\n",
       "      <td>5</td>\n",
       "      <td>6.0</td>\n",
       "    </tr>\n",
       "    <tr>\n",
       "      <th>Jeff</th>\n",
       "      <td>5.0</td>\n",
       "      <td>7</td>\n",
       "      <td>3.0</td>\n",
       "      <td>9</td>\n",
       "      <td>7</td>\n",
       "      <td>6.0</td>\n",
       "    </tr>\n",
       "    <tr>\n",
       "      <th>Andrei</th>\n",
       "      <td>7.0</td>\n",
       "      <td>7</td>\n",
       "      <td>6.0</td>\n",
       "      <td>8</td>\n",
       "      <td>5</td>\n",
       "      <td>9.0</td>\n",
       "    </tr>\n",
       "    <tr>\n",
       "      <th>Mike</th>\n",
       "      <td>6.0</td>\n",
       "      <td>8</td>\n",
       "      <td>4.0</td>\n",
       "      <td>6</td>\n",
       "      <td>4</td>\n",
       "      <td>6.0</td>\n",
       "    </tr>\n",
       "    <tr>\n",
       "      <th>Mark</th>\n",
       "      <td>6.0</td>\n",
       "      <td>8</td>\n",
       "      <td>9.0</td>\n",
       "      <td>9</td>\n",
       "      <td>7</td>\n",
       "      <td>6.0</td>\n",
       "    </tr>\n",
       "    <tr>\n",
       "      <th>Jason</th>\n",
       "      <td>NaN</td>\n",
       "      <td>9</td>\n",
       "      <td>NaN</td>\n",
       "      <td>7</td>\n",
       "      <td>5</td>\n",
       "      <td>NaN</td>\n",
       "    </tr>\n",
       "  </tbody>\n",
       "</table>\n",
       "</div>"
      ],
      "text/plain": [
       "        Harry Potter  Start with why  Tom Sawyer  Superman  Rebecca  Hamlet\n",
       "John             5.0               7         6.0         7        5     6.0\n",
       "Jeff             5.0               7         3.0         9        7     6.0\n",
       "Andrei           7.0               7         6.0         8        5     9.0\n",
       "Mike             6.0               8         4.0         6        4     6.0\n",
       "Mark             6.0               8         9.0         9        7     6.0\n",
       "Jason            NaN               9         NaN         7        5     NaN"
      ]
     },
     "execution_count": 4,
     "metadata": {},
     "output_type": "execute_result"
    }
   ],
   "source": [
    "df"
   ]
  },
  {
   "cell_type": "code",
   "execution_count": 5,
   "metadata": {},
   "outputs": [
    {
     "data": {
      "text/plain": [
       "Index(['Harry Potter', 'Tom Sawyer', 'Hamlet'], dtype='object')"
      ]
     },
     "execution_count": 5,
     "metadata": {},
     "output_type": "execute_result"
    }
   ],
   "source": [
    "df.columns[np.isnan(df.loc[\"Jason\"])]"
   ]
  },
  {
   "cell_type": "code",
   "execution_count": 6,
   "metadata": {},
   "outputs": [],
   "source": [
    "def get_eucidean_series(df, person):\n",
    "    all_checked_columns = df.columns[~np.isnan(df.loc[person])]\n",
    "    all_checked_values = df.loc[person][all_checked_columns]\n",
    "    items = df.loc[df.index][all_checked_columns]\n",
    "    \n",
    "    euclidian_distance = pow(np.sum((pow((all_checked_values-items),2)), axis=1), 0.5)\n",
    "\n",
    "    return euclidian_distance"
   ]
  },
  {
   "cell_type": "code",
   "execution_count": 7,
   "metadata": {},
   "outputs": [],
   "source": [
    "def pearson(x, y):\n",
    "    a = sum((x-np.mean(x))*(y-np.mean(y)))\n",
    "    b = pow((sum(pow(x - np.mean(x), 2))) * sum(pow(y-np.mean(y),2)), 0.5)\n",
    "    return a/b"
   ]
  },
  {
   "cell_type": "code",
   "execution_count": 8,
   "metadata": {},
   "outputs": [],
   "source": [
    "def get_pearson_series(df, person):\n",
    "    all_checked_columns = df.columns[~np.isnan(df.loc[person])]\n",
    "    person_df = df.loc[df.index == person, :][all_checked_columns]\n",
    "    others_df = df.loc[:, all_checked_columns]\n",
    "    pearson_list = {index:pearson(person_df.values.flatten(), others_df.loc[index,:].values) \n",
    "                    for index in others_df.index}\n",
    "    series = pd.Series(pearson_list, index = pearson_list.keys())\n",
    "    return series"
   ]
  },
  {
   "cell_type": "code",
   "execution_count": 9,
   "metadata": {},
   "outputs": [],
   "source": [
    "def calculate_similarity(df,person, using):\n",
    "    ed_indivisual_distance = {key:value for key, value in zip(get_eucidean_series(df, person).index, get_eucidean_series(df, person).values)}\n",
    "    p_indivisdual_distance = {key:value for key, value in zip(get_pearson_series(df, person).index, get_pearson_series(df, person).values)}\n",
    "    operation = ed_indivisual_distance.items() if using == \"Euclidean\" else p_indivisdual_distance.items()\n",
    "    similarity = {key : 1/(1 + value) for key, value in operation}\n",
    "    return similarity"
   ]
  },
  {
   "cell_type": "code",
   "execution_count": 10,
   "metadata": {},
   "outputs": [],
   "source": [
    "def calculate_ratings(df, person, using):\n",
    "    \n",
    "    all_checked_columns = df.columns[~np.isnan(df.loc[person])]\n",
    "    all_empty_columns = df.columns[np.isnan(df.loc[person])]\n",
    "    \n",
    "    similarity_df = df.loc[:, all_checked_columns]\n",
    "    similarity_df[\"similarity\"] = pd.Series(calculate_similarity(df,person, using))\n",
    "    df[\"similarity\"] = pd.Series(calculate_similarity(df,person, using))\n",
    "    \n",
    "    col_similarity = {column :sum(df.loc[:, column].fillna(0) * similarity_df.loc[:, \"similarity\"]) for column in df.columns}\n",
    "    a = {column : sum(df.loc[df.index[~np.isnan(df.loc[:, column])].values, \"similarity\"]) for column in df.columns}\n",
    "    \n",
    "    final_sum = {column : col_similarity[column]/a[column] for column in df.columns}\n",
    "    return final_sum\n",
    "    "
   ]
  },
  {
   "cell_type": "code",
   "execution_count": 11,
   "metadata": {},
   "outputs": [],
   "source": [
    "def make_recommendation(df, person,using):\n",
    "    ratings = calculate_ratings(df, person, using)\n",
    "    book_recommendation = \"\"\n",
    "    rating= 0\n",
    "    for key, value in ratings.items():\n",
    "        if ratings[key] > rating:\n",
    "            rating = ratings[key]\n",
    "            book_recommendation = key\n",
    "    return book_recommendation"
   ]
  },
  {
   "cell_type": "code",
   "execution_count": 12,
   "metadata": {},
   "outputs": [],
   "source": [
    "person = \"Jason\"\n",
    "e = \"Euclidean\"\n",
    "p = \"Pearson\"\n"
   ]
  },
  {
   "cell_type": "markdown",
   "metadata": {},
   "source": [
    "# calculate similarity using euclidean"
   ]
  },
  {
   "cell_type": "code",
   "execution_count": 13,
   "metadata": {},
   "outputs": [
    {
     "data": {
      "text/plain": [
       "{'John': 0.3333333333333333,\n",
       " 'Jeff': 0.2240092377397959,\n",
       " 'Andrei': 0.3090169943749474,\n",
       " 'Mike': 0.36602540378443865,\n",
       " 'Mark': 0.25,\n",
       " 'Jason': 1.0}"
      ]
     },
     "execution_count": 13,
     "metadata": {},
     "output_type": "execute_result"
    }
   ],
   "source": [
    "calculate_similarity(df, person, e)\n"
   ]
  },
  {
   "cell_type": "markdown",
   "metadata": {},
   "source": [
    "# calculate similarity using pearson"
   ]
  },
  {
   "cell_type": "code",
   "execution_count": 14,
   "metadata": {},
   "outputs": [
    {
     "data": {
      "text/plain": [
       "{'John': 0.5358983848622455,\n",
       " 'Jeff': 1.0,\n",
       " 'Andrei': 0.6043560762610399,\n",
       " 'Mike': 0.5,\n",
       " 'Mark': 0.6666666666666666,\n",
       " 'Jason': 0.5}"
      ]
     },
     "execution_count": 14,
     "metadata": {},
     "output_type": "execute_result"
    }
   ],
   "source": [
    "calculate_similarity(df, person, p)"
   ]
  },
  {
   "cell_type": "markdown",
   "metadata": {},
   "source": [
    "# calculating rating using pearson"
   ]
  },
  {
   "cell_type": "code",
   "execution_count": 15,
   "metadata": {},
   "outputs": [
    {
     "data": {
      "text/plain": [
       "{'Harry Potter': 5.718305253556572,\n",
       " 'Start with why': 7.569138837905078,\n",
       " 'Tom Sawyer': 5.395207831480208,\n",
       " 'Superman': 7.903010410302372,\n",
       " 'Rebecca': 5.744258480337411,\n",
       " 'Hamlet': 6.548264732880041,\n",
       " 'similarity': 0.6821464651051554}"
      ]
     },
     "execution_count": 15,
     "metadata": {},
     "output_type": "execute_result"
    }
   ],
   "source": [
    "calculate_ratings(df, person, p)"
   ]
  },
  {
   "cell_type": "markdown",
   "metadata": {},
   "source": [
    "# making recommendation using euclidean"
   ]
  },
  {
   "cell_type": "code",
   "execution_count": 16,
   "metadata": {},
   "outputs": [
    {
     "data": {
      "text/plain": [
       "'Start with why'"
      ]
     },
     "execution_count": 16,
     "metadata": {},
     "output_type": "execute_result"
    }
   ],
   "source": [
    "make_recommendation(df, person, e)"
   ]
  },
  {
   "cell_type": "markdown",
   "metadata": {},
   "source": [
    "# making recommendation using pearson"
   ]
  },
  {
   "cell_type": "code",
   "execution_count": 17,
   "metadata": {},
   "outputs": [
    {
     "data": {
      "text/plain": [
       "'Superman'"
      ]
     },
     "execution_count": 17,
     "metadata": {},
     "output_type": "execute_result"
    }
   ],
   "source": [
    "make_recommendation(df, person, p)"
   ]
  },
  {
   "cell_type": "markdown",
   "metadata": {},
   "source": [
    "# Visualization"
   ]
  },
  {
   "cell_type": "code",
   "execution_count": 18,
   "metadata": {},
   "outputs": [],
   "source": [
    "def calculate_euclidian_distance(df, person, column):\n",
    "    euclidian_distance = np.nan\n",
    "    if( not np.isnan(df.loc[person,column])):\n",
    "        other_values = df.loc[df.index != person, column]\n",
    "        selected_value = df.loc[person, column]\n",
    "        euclidian_distance = pow((other_values - selected_value ), 2)\n",
    "    return euclidian_distance    "
   ]
  },
  {
   "cell_type": "code",
   "execution_count": 19,
   "metadata": {},
   "outputs": [],
   "source": [
    "def get_allcolumns_euclidian_distance(df, person):\n",
    "    all_checked_columns = df.columns[~np.isnan(df.loc[person])]\n",
    "    return_value = {key: {a:b for a, b in value.items()} \n",
    "                    for key, value in zip(all_checked_columns,[calculate_euclidian_distance(df, person, column) \n",
    "                                                                for column in all_checked_columns])}\n",
    "    return return_value"
   ]
  },
  {
   "cell_type": "code",
   "execution_count": 20,
   "metadata": {},
   "outputs": [],
   "source": [
    "from mpl_toolkits.mplot3d import Axes3D\n",
    "import matplotlib.pyplot as plt\n",
    "def plot(df, person):\n",
    "    fig = plt.figure()\n",
    "    ax = fig.add_subplot(111, projection='3d')\n",
    "    \n",
    "    all_checked_columns = df.columns[~np.isnan(df.loc[person])]\n",
    "    valid_df = df.loc[:, all_checked_columns]\n",
    "    score_list = [valid_df.loc[:, column].values.tolist() for column in all_checked_columns]\n",
    "    ax.scatter(score_list[0], score_list[1], score_list[2])\n",
    "    print(valid_df)"
   ]
  },
  {
   "cell_type": "code",
   "execution_count": 21,
   "metadata": {},
   "outputs": [
    {
     "name": "stdout",
     "output_type": "stream",
     "text": [
      "        Start with why  Superman  Rebecca  similarity\n",
      "John                 7         7        5    0.509674\n",
      "Jeff                 7         9        7    0.540125\n",
      "Andrei               7         8        5    0.517613\n",
      "Mike                 8         6        4    0.500090\n",
      "Mark                 8         9        7    0.523910\n",
      "Jason                9         7        5    0.500000\n"
     ]
    },
    {
     "data": {
      "image/png": "[encoded data removed]",
      "text/plain": [
       "<Figure size 432x288 with 1 Axes>"
      ]
     },
     "metadata": {
      "needs_background": "light"
     },
     "output_type": "display_data"
    }
   ],
   "source": [
    "plot(df, \"Jason\")"
   ]
  },
  {
   "cell_type": "code",
   "execution_count": null,
   "metadata": {},
   "outputs": [],
   "source": []
  },
  {
   "cell_type": "code",
   "execution_count": null,
   "metadata": {},
   "outputs": [],
   "source": []
  }
 ],
 "metadata": {
  "kernelspec": {
   "display_name": "Python 3",
   "language": "python",
   "name": "python3"
  },
  "language_info": {
   "codemirror_mode": {
    "name": "ipython",
    "version": 3
   },
   "file_extension": ".py",
   "mimetype": "text/x-python",
   "name": "python",
   "nbconvert_exporter": "python",
   "pygments_lexer": "ipython3",
   "version": "3.7.1"
  }
 },
 "nbformat": 4,
 "nbformat_minor": 2
}
